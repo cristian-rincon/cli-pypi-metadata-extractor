{
 "cells": [
  {
   "cell_type": "markdown",
   "id": "67c3b146-6b3b-4436-883a-2e858bd1da7c",
   "metadata": {},
   "source": [
    "# Sandbox\n",
    "\n",
    "This is a sandbox notebook for rapid prototyping related to the lib."
   ]
  },
  {
   "cell_type": "code",
   "execution_count": 1,
   "id": "c4fd913a-770d-4010-8307-054e460a1f3b",
   "metadata": {},
   "outputs": [],
   "source": [
    "%load_ext autoreload\n",
    "%autoreload 2"
   ]
  },
  {
   "cell_type": "markdown",
   "id": "3ecbfd4e-fdc0-49fe-bd05-d1ebf0cfad5c",
   "metadata": {},
   "source": [
    "## 0. Requirements"
   ]
  },
  {
   "cell_type": "code",
   "execution_count": 2,
   "id": "2282593d-1309-4164-a549-f61246a0b597",
   "metadata": {},
   "outputs": [],
   "source": [
    "!pip install pandas loguru -qq"
   ]
  },
  {
   "cell_type": "markdown",
   "id": "ea64492c-3227-4535-9b95-490cad40c7b6",
   "metadata": {},
   "source": [
    "## 1. Imports"
   ]
  },
  {
   "cell_type": "code",
   "execution_count": 3,
   "id": "13e99521-c110-4fe3-afb3-612f2382dc18",
   "metadata": {},
   "outputs": [],
   "source": [
    "import sys\n",
    "sys.path.append(\"../\")"
   ]
  },
  {
   "cell_type": "code",
   "execution_count": 4,
   "id": "4882e6b6-d6ec-4f03-974e-29d1f98e8967",
   "metadata": {},
   "outputs": [],
   "source": [
    "import re\n",
    "import pandas as pd\n",
    "from loguru import logger\n",
    "from typing import List\n",
    "from extractor.core import *"
   ]
  },
  {
   "cell_type": "markdown",
   "id": "f5a29e66-095b-4a4a-8074-a2281caf9258",
   "metadata": {},
   "source": [
    "## 2. Extract"
   ]
  },
  {
   "cell_type": "code",
   "execution_count": 25,
   "id": "94340c07-1598-4aa9-98fc-45ff005eaeaf",
   "metadata": {},
   "outputs": [
    {
     "data": {
      "text/plain": [
       "{'author': '',\n",
       " 'author_email': 'James Bennett <james@b-list.org>',\n",
       " 'bugtrack_url': None,\n",
       " 'classifiers': ['Development Status :: 5 - Production/Stable',\n",
       "  'Environment :: Web Environment',\n",
       "  'Intended Audience :: Developers',\n",
       "  'License :: OSI Approved :: BSD License',\n",
       "  'Operating System :: OS Independent',\n",
       "  'Programming Language :: Python',\n",
       "  'Programming Language :: Python :: 3',\n",
       "  'Programming Language :: Python :: 3.10',\n",
       "  'Programming Language :: Python :: 3.11',\n",
       "  'Programming Language :: Python :: 3.7',\n",
       "  'Programming Language :: Python :: 3.8',\n",
       "  'Programming Language :: Python :: 3.9',\n",
       "  'Topic :: Utilities'],\n",
       " 'description': '.. -*-restructuredtext-*-\\n\\n.. image:: https://github.com/ubernostrum/webcolors/workflows/CI/badge.svg\\n   :alt: CI status image\\n   :target: https://github.com/ubernostrum/webcolors/actions?query=workflow%3ACI\\n\\n``webcolors`` is a module for working with HTML/CSS color definitions.\\n\\nSupport is included for normalizing and converting between the\\nfollowing formats (RGB colorspace only; conversion to/from HSL can be\\nhandled by the ``colorsys`` module in the Python standard library):\\n\\n* Specification-defined color names\\n\\n* Six-digit hexadecimal\\n\\n* Three-digit hexadecimal\\n\\n* Integer ``rgb()`` triplet\\n\\n* Percentage ``rgb()`` triplet\\n\\nFor example:\\n\\n.. code-block:: python\\n\\n    >>> import webcolors\\n    >>> webcolors.hex_to_name(\"#daa520\")\\n    \\'goldenrod\\'\\n\\nImplementations are also provided for the HTML5 color parsing and\\nserialization algorithms. For example, parsing the infamous\\n\"chucknorris\" string into an rgb() triplet:\\n\\n.. code-block:: python\\n\\n    >>> import webcolors\\n    >>> webcolors.html5_parse_legacy_color(\"chucknorris\")\\n    HTML5SimpleColor(red=192, green=0, blue=0)\\n\\nFull documentation is `available online <https://webcolors.readthedocs.io/>`_.\\n',\n",
       " 'description_content_type': 'text/x-rst',\n",
       " 'docs_url': None,\n",
       " 'download_url': '',\n",
       " 'downloads': {'last_day': -1, 'last_month': -1, 'last_week': -1},\n",
       " 'home_page': '',\n",
       " 'keywords': 'color,css,html,web',\n",
       " 'license': 'BSD-3-Clause',\n",
       " 'maintainer': '',\n",
       " 'maintainer_email': '',\n",
       " 'name': 'webcolors',\n",
       " 'package_url': 'https://pypi.org/project/webcolors/',\n",
       " 'platform': None,\n",
       " 'project_url': 'https://pypi.org/project/webcolors/',\n",
       " 'project_urls': {'documentation': 'https://webcolors.readthedocs.io',\n",
       "  'homepage': 'https://github.com/ubernostrum/webcolors'},\n",
       " 'release_url': 'https://pypi.org/project/webcolors/1.13/',\n",
       " 'requires_dist': [\"furo ; extra == 'docs'\",\n",
       "  \"sphinx ; extra == 'docs'\",\n",
       "  \"sphinx-copybutton ; extra == 'docs'\",\n",
       "  \"sphinx-inline-tabs ; extra == 'docs'\",\n",
       "  \"sphinx-notfound-page ; extra == 'docs'\",\n",
       "  \"sphinxext-opengraph ; extra == 'docs'\",\n",
       "  \"pytest ; extra == 'tests'\",\n",
       "  \"pytest-cov ; extra == 'tests'\"],\n",
       " 'requires_python': '>=3.7',\n",
       " 'summary': 'A library for working with the color formats defined by HTML and CSS.',\n",
       " 'version': '1.13',\n",
       " 'yanked': False,\n",
       " 'yanked_reason': None}"
      ]
     },
     "execution_count": 25,
     "metadata": {},
     "output_type": "execute_result"
    }
   ],
   "source": [
    "data = get_raw_data(\"webcolors\")\n",
    "data"
   ]
  },
  {
   "cell_type": "code",
   "execution_count": 15,
   "id": "09a1f351-7444-46e5-bc95-4c070739fc01",
   "metadata": {},
   "outputs": [
    {
     "name": "stderr",
     "output_type": "stream",
     "text": [
      "\u001b[32m2023-06-21 16:33:43.853\u001b[0m | \u001b[1mINFO    \u001b[0m | \u001b[36mextractor.core\u001b[0m:\u001b[36mfilter_data\u001b[0m:\u001b[36m58\u001b[0m - \u001b[1mSearching GitHub url for: notebook-shim\u001b[0m\n",
      "\u001b[32m2023-06-21 16:33:43.854\u001b[0m | \u001b[33m\u001b[1mWARNING \u001b[0m | \u001b[36mextractor.checks\u001b[0m:\u001b[36mgh_pattern\u001b[0m:\u001b[36m11\u001b[0m - \u001b[33m\u001b[1mNo project url found, please check manually\u001b[0m\n",
      "\u001b[32m2023-06-21 16:33:43.854\u001b[0m | \u001b[33m\u001b[1mWARNING \u001b[0m | \u001b[36mextractor.checks\u001b[0m:\u001b[36mgh_pattern\u001b[0m:\u001b[36m11\u001b[0m - \u001b[33m\u001b[1mNo version url found, please check manually\u001b[0m\n"
     ]
    },
    {
     "name": "stdout",
     "output_type": "stream",
     "text": [
      "\n",
      "\n"
     ]
    },
    {
     "data": {
      "text/plain": [
       "{'name': 'notebook-shim',\n",
       " 'version': '0.2.3',\n",
       " 'license': 'BSD 3-Clause License  Copyright (c) 2022 Project Jupyter Contributors All rights reserved.  Redistribution and use in source and binary forms, with or without modification, are permitted provided that the following conditions are met:  1. Redistributions of source code must retain the above copyright notice, this list of conditions and the following disclaimer.  2. Redistributions in binary form must reproduce the above copyright notice, this list of conditions and the following disclaimer in the documentation and/or other materials provided with the distribution.  3. Neither the name of the copyright holder nor the names of its contributors may be used to endorse or promote products derived from this software without specific prior written permission.  THIS SOFTWARE IS PROVIDED BY THE COPYRIGHT HOLDERS AND CONTRIBUTORS \"AS IS\" AND ANY EXPRESS OR IMPLIED WARRANTIES, INCLUDING, BUT NOT LIMITED TO, THE IMPLIED WARRANTIES OF MERCHANTABILITY AND FITNESS FOR A PARTICULAR PURPOSE ARE DISCLAIMED. IN NO EVENT SHALL THE COPYRIGHT HOLDER OR CONTRIBUTORS BE LIABLE FOR ANY DIRECT, INDIRECT, INCIDENTAL, SPECIAL, EXEMPLARY, OR CONSEQUENTIAL DAMAGES (INCLUDING, BUT NOT LIMITED TO, PROCUREMENT OF SUBSTITUTE GOODS OR SERVICES; LOSS OF USE, DATA, OR PROFITS; OR BUSINESS INTERRUPTION) HOWEVER CAUSED AND ON ANY THEORY OF LIABILITY, WHETHER IN CONTRACT, STRICT LIABILITY, OR TORT (INCLUDING NEGLIGENCE OR OTHERWISE) ARISING IN ANY WAY OUT OF THE USE OF THIS SOFTWARE, EVEN IF ADVISED OF THE POSSIBILITY OF SUCH DAMAGE.',\n",
       " 'homepage': '',\n",
       " 'version_url': 'No version url found, please check manually',\n",
       " 'project_url': 'No project url found, please check manually'}"
      ]
     },
     "execution_count": 15,
     "metadata": {},
     "output_type": "execute_result"
    }
   ],
   "source": [
    "filter_data(data,data[\"version\"])"
   ]
  },
  {
   "cell_type": "code",
   "execution_count": 26,
   "id": "8710c6e4-3866-4ace-8fcf-4b4663438767",
   "metadata": {},
   "outputs": [],
   "source": [
    "def find_gh_homepage(raw_data: Dict[str, str], version: str, keys:List[str])-> Dict[str, str]:\n",
    "    pattern = r\"(https:\\/\\/|http:\\/\\/)github\\.com\"\n",
    "    for key in keys:\n",
    "        project_url = raw_data.get(key)\n",
    "        logger.info(project_url)\n",
    "        is_github_url = re.search(pattern,project_url)\n",
    "        if is_github_url:\n",
    "            return project_url"
   ]
  },
  {
   "cell_type": "code",
   "execution_count": null,
   "id": "e5f0a7f6-cae8-4528-82fc-2e90c3024583",
   "metadata": {},
   "outputs": [],
   "source": [
    "'Source Code'\n",
    "'Homepage'\n",
    "'Source'"
   ]
  }
 ],
 "metadata": {
  "kernelspec": {
   "display_name": "cli-pypi-metadata-extractor-py3.8",
   "language": "python",
   "name": "cli-pypi-metadata-extractor-py3.8"
  },
  "language_info": {
   "codemirror_mode": {
    "name": "ipython",
    "version": 3
   },
   "file_extension": ".py",
   "mimetype": "text/x-python",
   "name": "python",
   "nbconvert_exporter": "python",
   "pygments_lexer": "ipython3",
   "version": "3.8.15"
  }
 },
 "nbformat": 4,
 "nbformat_minor": 5
}
