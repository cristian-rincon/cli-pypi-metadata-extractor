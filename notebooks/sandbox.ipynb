{
 "cells": [
  {
   "cell_type": "markdown",
   "id": "67c3b146-6b3b-4436-883a-2e858bd1da7c",
   "metadata": {},
   "source": [
    "# Sandbox\n",
    "\n",
    "This is a sandbox notebook for rapid prototyping related to the lib."
   ]
  },
  {
   "cell_type": "code",
   "execution_count": 1,
   "id": "c4fd913a-770d-4010-8307-054e460a1f3b",
   "metadata": {},
   "outputs": [],
   "source": [
    "%load_ext autoreload\n",
    "%autoreload 2"
   ]
  },
  {
   "cell_type": "markdown",
   "id": "3ecbfd4e-fdc0-49fe-bd05-d1ebf0cfad5c",
   "metadata": {},
   "source": [
    "## 0. Requirements"
   ]
  },
  {
   "cell_type": "code",
   "execution_count": 11,
   "id": "2282593d-1309-4164-a549-f61246a0b597",
   "metadata": {},
   "outputs": [
    {
     "name": "stdout",
     "output_type": "stream",
     "text": [
      "Requirement already satisfied: pandas in /Users/corincon/Documents/personal/cli-pypi-metadata-extractor/.venv/lib/python3.8/site-packages (2.0.2)\n",
      "Requirement already satisfied: loguru in /Users/corincon/Documents/personal/cli-pypi-metadata-extractor/.venv/lib/python3.8/site-packages (0.7.0)\n",
      "Requirement already satisfied: python-dateutil>=2.8.2 in /Users/corincon/Documents/personal/cli-pypi-metadata-extractor/.venv/lib/python3.8/site-packages (from pandas) (2.8.2)\n",
      "Requirement already satisfied: pytz>=2020.1 in /Users/corincon/Documents/personal/cli-pypi-metadata-extractor/.venv/lib/python3.8/site-packages (from pandas) (2023.3)\n",
      "Requirement already satisfied: tzdata>=2022.1 in /Users/corincon/Documents/personal/cli-pypi-metadata-extractor/.venv/lib/python3.8/site-packages (from pandas) (2023.3)\n",
      "Requirement already satisfied: numpy>=1.20.3 in /Users/corincon/Documents/personal/cli-pypi-metadata-extractor/.venv/lib/python3.8/site-packages (from pandas) (1.24.3)\n",
      "Requirement already satisfied: six>=1.5 in /Users/corincon/Documents/personal/cli-pypi-metadata-extractor/.venv/lib/python3.8/site-packages (from python-dateutil>=2.8.2->pandas) (1.16.0)\n"
     ]
    }
   ],
   "source": [
    "!pip install pandas loguru"
   ]
  },
  {
   "cell_type": "markdown",
   "id": "ea64492c-3227-4535-9b95-490cad40c7b6",
   "metadata": {},
   "source": [
    "## 1. Imports"
   ]
  },
  {
   "cell_type": "code",
   "execution_count": 3,
   "id": "13e99521-c110-4fe3-afb3-612f2382dc18",
   "metadata": {},
   "outputs": [],
   "source": [
    "import sys\n",
    "sys.path.append(\"../\")"
   ]
  },
  {
   "cell_type": "code",
   "execution_count": 6,
   "id": "4882e6b6-d6ec-4f03-974e-29d1f98e8967",
   "metadata": {},
   "outputs": [],
   "source": [
    "import re\n",
    "import requests\n",
    "import pandas as pd\n",
    "from loguru import logger\n",
    "from typing import List\n",
    "from extractor.core import *"
   ]
  },
  {
   "cell_type": "markdown",
   "id": "f5a29e66-095b-4a4a-8074-a2281caf9258",
   "metadata": {},
   "source": [
    "## 2. Extract"
   ]
  },
  {
   "cell_type": "code",
   "execution_count": 65,
   "id": "94340c07-1598-4aa9-98fc-45ff005eaeaf",
   "metadata": {},
   "outputs": [],
   "source": [
    "data = get_raw_data(\"dbx\")"
   ]
  },
  {
   "cell_type": "code",
   "execution_count": 67,
   "id": "7165e946-e531-4723-9c5f-05e37794766d",
   "metadata": {},
   "outputs": [
    {
     "data": {
      "text/plain": [
       "{'author': 'Thunder Shiviah, Michael Shtelma, Ivan Trusov',\n",
       " 'author_email': '',\n",
       " 'bugtrack_url': None,\n",
       " 'classifiers': ['Intended Audience :: Developers',\n",
       "  'Intended Audience :: System Administrators'],\n",
       " 'description': '# dbx by Databricks Labs\\n\\n<p align=\"center\">\\n    <a href=\"https://dbx.readthedocs.io/\">\\n        <img src=\"https://raw.githubusercontent.com/databrickslabs/dbx/master/images/logo.svg\" class=\"align-center\" width=\"200\" height=\"200\" alt=\"logo\" />\\n    </a>\\n</p>\\n\\n<p align=\"center\">\\n    <b>🧱Databricks CLI eXtensions - aka <code>dbx</code> is a CLI tool for development and advanced Databricks workflows management.</b>\\n</p>\\n\\n---\\n\\n<p align=\"center\">\\n    <a href=\"https://dbx.readthedocs.io/en/latest/?badge=latest\">\\n        <img src=\"https://img.shields.io/readthedocs/dbx?style=for-the-badge\" alt=\"Documentation Status\"/>\\n    </a>\\n    <a href=\"https://pypi.org/project/dbx/\">\\n        <img src=\"https://img.shields.io/pypi/v/dbx?color=green&amp;style=for-the-badge\" alt=\"Latest Python Release\"/>\\n    </a>\\n    <a href=\"https://codecov.io/gh/databrickslabs/dbx\">\\n        <img src=\"https://img.shields.io/codecov/c/github/databrickslabs/dbx?style=for-the-badge&amp;token=S7ADH3W2E3\"\\n             alt=\"codecov\"/>\\n    </a>\\n    <a href=\"https://pypistats.org/packages/dbx\">\\n        <img src=\"https://img.shields.io/pypi/dm/dbx?style=for-the-badge\" alt=\"downloads\"/>\\n    </a>\\n    <a href=\"https://github.com/psf/black\">\\n        <img src=\"https://img.shields.io/badge/code%20style-black-000000.svg?style=for-the-badge\"\\n             alt=\"We use black for formatting\"/>\\n    </a>\\n</p>\\n\\n---\\n\\n## Concept\\n\\n`dbx` simplifies Databricks workflows development, deployment and launch across multiple\\nenvironments. It also helps to package your project and deliver it to\\nyour Databricks environment in a versioned fashion. Designed in a\\nCLI-first manner, it is built to be actively used both inside CI/CD\\npipelines and as a part of local tooling for rapid prototyping.\\n\\n## Requirements\\n\\n- Python Version \\\\> 3.8\\n- `pip` or `conda`\\n\\n## Installation\\n\\n- with `pip`:\\n\\n```\\npip install dbx\\n```\\n\\n## Documentation\\n\\nPlease refer to the [docs page](https://dbx.readthedocs.io/en/latest/index.html).\\n\\n## Interface versioning\\n\\nFor CLI interfaces, we support [SemVer](https://semver.org/) approach.\\nHowever, for API components we don\\'t use SemVer as of now. This may lead\\nto instability when using `dbx` API methods directly.\\n\\n## Legal Information\\n\\nThis software is provided as-is and is not officially supported by\\nDatabricks through customer technical support channels. Support,\\nquestions, and feature requests can be communicated through the Issues\\npage of this repo. Please see the legal agreement and understand that\\nissues with the use of this code will not be answered or investigated by\\nDatabricks Support.\\n\\n## Feedback\\n\\nIssues with `dbx`? Found a bug? Have a great idea for an addition? Feel\\nfree to file an\\n[issue](https://github.com/databrickslabs/dbx/issues/new/choose).\\n\\n## Contributing\\n\\nPlease find more details about contributing to `dbx` in the contributing\\n[doc](https://github.com/databrickslabs/dbx/blob/master/contrib/CONTRIBUTING.md).\\n',\n",
       " 'description_content_type': 'text/markdown',\n",
       " 'docs_url': None,\n",
       " 'download_url': '',\n",
       " 'downloads': {'last_day': -1, 'last_month': -1, 'last_week': -1},\n",
       " 'home_page': '',\n",
       " 'keywords': '',\n",
       " 'license': 'Databricks License',\n",
       " 'maintainer': '',\n",
       " 'maintainer_email': '',\n",
       " 'name': 'dbx',\n",
       " 'package_url': 'https://pypi.org/project/dbx/',\n",
       " 'platform': None,\n",
       " 'project_url': 'https://pypi.org/project/dbx/',\n",
       " 'project_urls': None,\n",
       " 'release_url': 'https://pypi.org/project/dbx/0.8.17/',\n",
       " 'requires_dist': ['requests (<3.0.0,>=2.30.1)',\n",
       "  'mlflow-skinny (<3.0.0,>=2.0.0)',\n",
       "  'databricks-cli (<0.18,>=0.17)',\n",
       "  'tenacity (<=9.0.0,>=8.2.2)',\n",
       "  'click (<9.0.0,>=8.1.0)',\n",
       "  'rich (==12.6.0)',\n",
       "  'typer[all] (==0.7.0)',\n",
       "  'cookiecutter (<3.0.0,>2.1.0)',\n",
       "  'pyyaml (>=6.0)',\n",
       "  'pydantic (<2.0.0,>=1.10.8)',\n",
       "  'Jinja2 (>=2.11.2)',\n",
       "  'cryptography (<42.0.0,>=41.0.0)',\n",
       "  'aiohttp (>=3.8.2)',\n",
       "  'pathspec (>=0.9.0)',\n",
       "  'watchdog (>=2.1.0)',\n",
       "  \"boto3 (<2,>=1.26.13) ; extra == 'aws'\",\n",
       "  \"azure-storage-blob (<13.0.0,>=12.14.1) ; extra == 'azure'\",\n",
       "  \"azure-identity (<2.0.0,>=1.12.0) ; extra == 'azure'\",\n",
       "  \"mkdocs (<2.0.0,>=1.1.2) ; extra == 'dev'\",\n",
       "  \"mkdocs-click (<1.0,>=0.8.0) ; extra == 'dev'\",\n",
       "  \"mkdocs-material (<10.0.0,>=9.0.8) ; extra == 'dev'\",\n",
       "  \"mdx-include (<2.0.0,>=1.4.1) ; extra == 'dev'\",\n",
       "  \"mkdocs-markdownextradata-plugin (<0.3.0,>=0.1.7) ; extra == 'dev'\",\n",
       "  \"mkdocs-glightbox (<1.0,>=0.2.1) ; extra == 'dev'\",\n",
       "  \"mkdocs-git-revision-date-localized-plugin (<=2.0,>=1.1.0) ; extra == 'dev'\",\n",
       "  \"pre-commit (<4.0.0,>=2.20.0) ; extra == 'dev'\",\n",
       "  \"pylint (==2.15.6) ; extra == 'dev'\",\n",
       "  \"pycodestyle (==2.8.0) ; extra == 'dev'\",\n",
       "  \"pyflakes (==2.5.0) ; extra == 'dev'\",\n",
       "  \"mccabe (==0.6.1) ; extra == 'dev'\",\n",
       "  \"prospector (==1.7.7) ; extra == 'dev'\",\n",
       "  \"black (<23.0.0,>=22.3.0) ; extra == 'dev'\",\n",
       "  \"MarkupSafe (<3.0.0,>=2.1.1) ; extra == 'dev'\",\n",
       "  \"pytest (<8.0.0,>=7.1.3) ; extra == 'dev'\",\n",
       "  \"pytest-mock (<3.11.0,>=3.8.2) ; extra == 'dev'\",\n",
       "  \"pytest-xdist[psutil] (<3.0.0,>=2.5.0) ; extra == 'dev'\",\n",
       "  \"pytest-asyncio (<1.0.0,>=0.18.3) ; extra == 'dev'\",\n",
       "  \"pytest-cov (<5.0.0,>=4.0.0) ; extra == 'dev'\",\n",
       "  \"pytest-timeout (<3.0.0,>=2.1.0) ; extra == 'dev'\",\n",
       "  \"pytest-clarity (<2.0.0,>=1.0.1) ; extra == 'dev'\",\n",
       "  \"poetry (>=1.2.0) ; extra == 'dev'\",\n",
       "  \"google-cloud-storage (<3.0.0,>=2.6.0) ; extra == 'gcp'\"],\n",
       " 'requires_python': '>=3.8',\n",
       " 'summary': 'DataBricks CLI eXtensions aka dbx',\n",
       " 'version': '0.8.17',\n",
       " 'yanked': False,\n",
       " 'yanked_reason': None}"
      ]
     },
     "execution_count": 67,
     "metadata": {},
     "output_type": "execute_result"
    }
   ],
   "source": [
    "data"
   ]
  },
  {
   "cell_type": "code",
   "execution_count": 66,
   "id": "09a1f351-7444-46e5-bc95-4c070739fc01",
   "metadata": {},
   "outputs": [
    {
     "data": {
      "text/html": [
       "<pre style=\"white-space:pre;overflow-x:auto;line-height:normal;font-family:Menlo,'DejaVu Sans Mono',consolas,'Courier New',monospace\"><span style=\"color: #7fbfbf; text-decoration-color: #7fbfbf\">[06/23/23 15:58:14] </span><span style=\"color: #000080; text-decoration-color: #000080\">INFO    </span> Searching GitHub url for: dbx                                               <a href=\"file:///Users/corincon/Documents/personal/cli-pypi-metadata-extractor/notebooks/../extractor/core.py\" target=\"_blank\"><span style=\"color: #7f7f7f; text-decoration-color: #7f7f7f\">core.py</span></a><span style=\"color: #7f7f7f; text-decoration-color: #7f7f7f\">:</span><a href=\"file:///Users/corincon/Documents/personal/cli-pypi-metadata-extractor/notebooks/../extractor/core.py#62\" target=\"_blank\"><span style=\"color: #7f7f7f; text-decoration-color: #7f7f7f\">62</span></a>\n",
       "</pre>\n"
      ],
      "text/plain": [
       "\u001b[2;36m[06/23/23 15:58:14]\u001b[0m\u001b[2;36m \u001b[0m\u001b[34mINFO    \u001b[0m Searching GitHub url for: dbx                                               \u001b]8;id=483716;file:///Users/corincon/Documents/personal/cli-pypi-metadata-extractor/notebooks/../extractor/core.py\u001b\\\u001b[2mcore.py\u001b[0m\u001b]8;;\u001b\\\u001b[2m:\u001b[0m\u001b]8;id=396192;file:///Users/corincon/Documents/personal/cli-pypi-metadata-extractor/notebooks/../extractor/core.py#62\u001b\\\u001b[2m62\u001b[0m\u001b]8;;\u001b\\\n"
      ]
     },
     "metadata": {},
     "output_type": "display_data"
    },
    {
     "data": {
      "text/html": [
       "<pre style=\"white-space:pre;overflow-x:auto;line-height:normal;font-family:Menlo,'DejaVu Sans Mono',consolas,'Courier New',monospace\"><span style=\"color: #7fbfbf; text-decoration-color: #7fbfbf\">                    </span><span style=\"color: #800000; text-decoration-color: #800000\">WARNING </span> No project url found, please check manually                               <a href=\"file:///Users/corincon/Documents/personal/cli-pypi-metadata-extractor/notebooks/../extractor/checks.py\" target=\"_blank\"><span style=\"color: #7f7f7f; text-decoration-color: #7f7f7f\">checks.py</span></a><span style=\"color: #7f7f7f; text-decoration-color: #7f7f7f\">:</span><a href=\"file:///Users/corincon/Documents/personal/cli-pypi-metadata-extractor/notebooks/../extractor/checks.py#14\" target=\"_blank\"><span style=\"color: #7f7f7f; text-decoration-color: #7f7f7f\">14</span></a>\n",
       "</pre>\n"
      ],
      "text/plain": [
       "\u001b[2;36m                   \u001b[0m\u001b[2;36m \u001b[0m\u001b[31mWARNING \u001b[0m No project url found, please check manually                               \u001b]8;id=371744;file:///Users/corincon/Documents/personal/cli-pypi-metadata-extractor/notebooks/../extractor/checks.py\u001b\\\u001b[2mchecks.py\u001b[0m\u001b]8;;\u001b\\\u001b[2m:\u001b[0m\u001b]8;id=110845;file:///Users/corincon/Documents/personal/cli-pypi-metadata-extractor/notebooks/../extractor/checks.py#14\u001b\\\u001b[2m14\u001b[0m\u001b]8;;\u001b\\\n"
      ]
     },
     "metadata": {},
     "output_type": "display_data"
    },
    {
     "data": {
      "text/plain": [
       "{'name': 'dbx',\n",
       " 'version': '0.8.17',\n",
       " 'license': 'Databricks License',\n",
       " 'pypi_release_url': 'https://pypi.org/project/dbx/0.8.17/',\n",
       " 'version_url': 'No version url found, please check manually'}"
      ]
     },
     "execution_count": 66,
     "metadata": {},
     "output_type": "execute_result"
    }
   ],
   "source": [
    "filter_data(data,data[\"version\"])"
   ]
  },
  {
   "cell_type": "code",
   "execution_count": 26,
   "id": "8710c6e4-3866-4ace-8fcf-4b4663438767",
   "metadata": {},
   "outputs": [],
   "source": [
    "def find_gh_homepage(raw_data: Dict[str, str], version: str, keys:List[str])-> Dict[str, str]:\n",
    "    pattern = r\"(https:\\/\\/|http:\\/\\/)github\\.com\"\n",
    "    for key in keys:\n",
    "        project_url = raw_data.get(key)\n",
    "        logger.info(project_url)\n",
    "        is_github_url = re.search(pattern,project_url)\n",
    "        if is_github_url:\n",
    "            return project_url"
   ]
  },
  {
   "cell_type": "code",
   "execution_count": null,
   "id": "e5f0a7f6-cae8-4528-82fc-2e90c3024583",
   "metadata": {},
   "outputs": [],
   "source": [
    "'Source Code'\n",
    "'Homepage'\n",
    "'Source'"
   ]
  },
  {
   "cell_type": "code",
   "execution_count": 17,
   "id": "94fa988b-6b80-4f34-8735-72b854650685",
   "metadata": {},
   "outputs": [],
   "source": [
    "license_pattern = r\"^[lL]icense.*\""
   ]
  },
  {
   "cell_type": "code",
   "execution_count": 19,
   "id": "73235fab-5d0d-44ce-b8c3-7b8d32eb8938",
   "metadata": {},
   "outputs": [],
   "source": [
    "re.search(license_pattern,\"Locense :: OSI Approved :: MIT License\") "
   ]
  },
  {
   "cell_type": "code",
   "execution_count": 47,
   "id": "f47c653c-e6bc-4bcf-ae34-201e2d1e7230",
   "metadata": {},
   "outputs": [],
   "source": [
    "response = requests.get(\"https://github.com/apache/spark/tree/master/python/tree/v3.4.1/\")"
   ]
  },
  {
   "cell_type": "code",
   "execution_count": 45,
   "id": "51c50593-397b-4e1c-a9d4-e2e4f932b3c4",
   "metadata": {},
   "outputs": [
    {
     "data": {
      "text/plain": [
       "404"
      ]
     },
     "execution_count": 45,
     "metadata": {},
     "output_type": "execute_result"
    }
   ],
   "source": [
    "response.status_code"
   ]
  },
  {
   "cell_type": "code",
   "execution_count": 50,
   "id": "06d06374-b87f-463e-8590-6925a07314a9",
   "metadata": {},
   "outputs": [
    {
     "name": "stdout",
     "output_type": "stream",
     "text": [
      "hello\n"
     ]
    }
   ],
   "source": [
    "if response.status_code == 404:\n",
    "    print(\"hello\")"
   ]
  },
  {
   "cell_type": "code",
   "execution_count": 49,
   "id": "042a30a5-072c-48d9-867b-e117451f187d",
   "metadata": {},
   "outputs": [
    {
     "data": {
      "text/plain": [
       "False"
      ]
     },
     "execution_count": 49,
     "metadata": {},
     "output_type": "execute_result"
    }
   ],
   "source": [
    "response.status_code == \"404\""
   ]
  },
  {
   "cell_type": "code",
   "execution_count": null,
   "id": "8a80786f-4603-48cb-9668-92c99bc9ed68",
   "metadata": {},
   "outputs": [],
   "source": []
  }
 ],
 "metadata": {
  "kernelspec": {
   "display_name": "cli-pypi-metadata-extractor-py3.8",
   "language": "python",
   "name": "cli-pypi-metadata-extractor-py3.8"
  },
  "language_info": {
   "codemirror_mode": {
    "name": "ipython",
    "version": 3
   },
   "file_extension": ".py",
   "mimetype": "text/x-python",
   "name": "python",
   "nbconvert_exporter": "python",
   "pygments_lexer": "ipython3",
   "version": "3.8.15"
  }
 },
 "nbformat": 4,
 "nbformat_minor": 5
}
