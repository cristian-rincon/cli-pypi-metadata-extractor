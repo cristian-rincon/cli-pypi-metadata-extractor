{
 "cells": [
  {
   "cell_type": "markdown",
   "id": "67c3b146-6b3b-4436-883a-2e858bd1da7c",
   "metadata": {},
   "source": [
    "# Sandbox\n",
    "\n",
    "This is a sandbox notebook for rapid prototyping related to the lib."
   ]
  },
  {
   "cell_type": "code",
   "execution_count": 1,
   "id": "c4fd913a-770d-4010-8307-054e460a1f3b",
   "metadata": {},
   "outputs": [],
   "source": [
    "%load_ext autoreload\n",
    "%autoreload 2"
   ]
  },
  {
   "cell_type": "markdown",
   "id": "3ecbfd4e-fdc0-49fe-bd05-d1ebf0cfad5c",
   "metadata": {},
   "source": [
    "## 0. Requirements"
   ]
  },
  {
   "cell_type": "code",
   "execution_count": 2,
   "id": "2282593d-1309-4164-a549-f61246a0b597",
   "metadata": {},
   "outputs": [],
   "source": [
    "!pip install pandas loguru -qq"
   ]
  },
  {
   "cell_type": "markdown",
   "id": "ea64492c-3227-4535-9b95-490cad40c7b6",
   "metadata": {},
   "source": [
    "## 1. Imports"
   ]
  },
  {
   "cell_type": "code",
   "execution_count": 3,
   "id": "13e99521-c110-4fe3-afb3-612f2382dc18",
   "metadata": {},
   "outputs": [],
   "source": [
    "import sys\n",
    "sys.path.append(\"../\")"
   ]
  },
  {
   "cell_type": "code",
   "execution_count": 4,
   "id": "4882e6b6-d6ec-4f03-974e-29d1f98e8967",
   "metadata": {},
   "outputs": [],
   "source": [
    "import re\n",
    "import pandas as pd\n",
    "from loguru import logger\n",
    "from typing import List\n",
    "from extractor.core import *"
   ]
  },
  {
   "cell_type": "markdown",
   "id": "f5a29e66-095b-4a4a-8074-a2281caf9258",
   "metadata": {},
   "source": [
    "## 2. Extract"
   ]
  },
  {
   "cell_type": "code",
   "execution_count": 23,
   "id": "94340c07-1598-4aa9-98fc-45ff005eaeaf",
   "metadata": {},
   "outputs": [
    {
     "data": {
      "text/plain": [
       "{'author': None,\n",
       " 'author_email': 'Leonard Richardson <leonardr@segfault.org>',\n",
       " 'bugtrack_url': None,\n",
       " 'classifiers': ['Development Status :: 5 - Production/Stable',\n",
       "  'Intended Audience :: Developers',\n",
       "  'License :: OSI Approved :: MIT License',\n",
       "  'Programming Language :: Python',\n",
       "  'Programming Language :: Python :: 3',\n",
       "  'Topic :: Software Development :: Libraries :: Python Modules',\n",
       "  'Topic :: Text Processing :: Markup :: HTML',\n",
       "  'Topic :: Text Processing :: Markup :: SGML',\n",
       "  'Topic :: Text Processing :: Markup :: XML'],\n",
       " 'description': 'Beautiful Soup is a library that makes it easy to scrape information\\nfrom web pages. It sits atop an HTML or XML parser, providing Pythonic\\nidioms for iterating, searching, and modifying the parse tree.\\n\\n# Quick start\\n\\n```\\n>>> from bs4 import BeautifulSoup\\n>>> soup = BeautifulSoup(\"<p>Some<b>bad<i>HTML\")\\n>>> print(soup.prettify())\\n<html>\\n <body>\\n  <p>\\n   Some\\n   <b>\\n    bad\\n    <i>\\n     HTML\\n    </i>\\n   </b>\\n  </p>\\n </body>\\n</html>\\n>>> soup.find(text=\"bad\")\\n\\'bad\\'\\n>>> soup.i\\n<i>HTML</i>\\n#\\n>>> soup = BeautifulSoup(\"<tag1>Some<tag2/>bad<tag3>XML\", \"xml\")\\n#\\n>>> print(soup.prettify())\\n<?xml version=\"1.0\" encoding=\"utf-8\"?>\\n<tag1>\\n Some\\n <tag2/>\\n bad\\n <tag3>\\n  XML\\n </tag3>\\n</tag1>\\n```\\n\\nTo go beyond the basics, [comprehensive documentation is available](https://www.crummy.com/software/BeautifulSoup/bs4/doc/).\\n\\n# Links\\n\\n* [Homepage](https://www.crummy.com/software/BeautifulSoup/bs4/)\\n* [Documentation](https://www.crummy.com/software/BeautifulSoup/bs4/doc/)\\n* [Discussion group](https://groups.google.com/group/beautifulsoup/)\\n* [Development](https://code.launchpad.net/beautifulsoup/)\\n* [Bug tracker](https://bugs.launchpad.net/beautifulsoup/)\\n* [Complete changelog](https://bazaar.launchpad.net/~leonardr/beautifulsoup/bs4/view/head:/CHANGELOG)\\n\\n# Note on Python 2 sunsetting\\n\\nBeautiful Soup\\'s support for Python 2 was discontinued on December 31,\\n2020: one year after the sunset date for Python 2 itself. From this\\npoint onward, new Beautiful Soup development will exclusively target\\nPython 3. The final release of Beautiful Soup 4 to support Python 2\\nwas 4.9.3.\\n\\n# Supporting the project\\n\\nIf you use Beautiful Soup as part of your professional work, please consider a\\n[Tidelift subscription](https://tidelift.com/subscription/pkg/pypi-beautifulsoup4?utm_source=pypi-beautifulsoup4&utm_medium=referral&utm_campaign=readme).\\nThis will support many of the free software projects your organization\\ndepends on, not just Beautiful Soup.\\n\\nIf you use Beautiful Soup for personal projects, the best way to say\\nthank you is to read\\n[Tool Safety](https://www.crummy.com/software/BeautifulSoup/zine/), a zine I\\nwrote about what Beautiful Soup has taught me about software\\ndevelopment.\\n\\n# Building the documentation\\n\\nThe bs4/doc/ directory contains full documentation in Sphinx\\nformat. Run `make html` in that directory to create HTML\\ndocumentation.\\n\\n# Running the unit tests\\n\\nBeautiful Soup supports unit test discovery using Pytest:\\n\\n```\\n$ pytest\\n```\\n\\n',\n",
       " 'description_content_type': 'text/markdown',\n",
       " 'docs_url': None,\n",
       " 'download_url': None,\n",
       " 'downloads': {'last_day': -1, 'last_month': -1, 'last_week': -1},\n",
       " 'home_page': None,\n",
       " 'keywords': 'HTML,XML,parse,soup',\n",
       " 'license': None,\n",
       " 'maintainer': None,\n",
       " 'maintainer_email': None,\n",
       " 'name': 'beautifulsoup4',\n",
       " 'package_url': 'https://pypi.org/project/beautifulsoup4/',\n",
       " 'platform': None,\n",
       " 'project_url': 'https://pypi.org/project/beautifulsoup4/',\n",
       " 'project_urls': {'Download': 'https://www.crummy.com/software/BeautifulSoup/bs4/download/',\n",
       "  'Homepage': 'https://www.crummy.com/software/BeautifulSoup/bs4/'},\n",
       " 'release_url': 'https://pypi.org/project/beautifulsoup4/4.12.2/',\n",
       " 'requires_dist': ['soupsieve>1.2',\n",
       "  \"html5lib; extra == 'html5lib'\",\n",
       "  \"lxml; extra == 'lxml'\"],\n",
       " 'requires_python': '>=3.6.0',\n",
       " 'summary': 'Screen-scraping library',\n",
       " 'version': '4.12.2',\n",
       " 'yanked': False,\n",
       " 'yanked_reason': None}"
      ]
     },
     "execution_count": 23,
     "metadata": {},
     "output_type": "execute_result"
    }
   ],
   "source": [
    "data = get_raw_data(\"beautifulsoup4\")\n",
    "data"
   ]
  },
  {
   "cell_type": "code",
   "execution_count": 15,
   "id": "09a1f351-7444-46e5-bc95-4c070739fc01",
   "metadata": {},
   "outputs": [
    {
     "name": "stderr",
     "output_type": "stream",
     "text": [
      "\u001b[32m2023-06-21 16:33:43.853\u001b[0m | \u001b[1mINFO    \u001b[0m | \u001b[36mextractor.core\u001b[0m:\u001b[36mfilter_data\u001b[0m:\u001b[36m58\u001b[0m - \u001b[1mSearching GitHub url for: notebook-shim\u001b[0m\n",
      "\u001b[32m2023-06-21 16:33:43.854\u001b[0m | \u001b[33m\u001b[1mWARNING \u001b[0m | \u001b[36mextractor.checks\u001b[0m:\u001b[36mgh_pattern\u001b[0m:\u001b[36m11\u001b[0m - \u001b[33m\u001b[1mNo project url found, please check manually\u001b[0m\n",
      "\u001b[32m2023-06-21 16:33:43.854\u001b[0m | \u001b[33m\u001b[1mWARNING \u001b[0m | \u001b[36mextractor.checks\u001b[0m:\u001b[36mgh_pattern\u001b[0m:\u001b[36m11\u001b[0m - \u001b[33m\u001b[1mNo version url found, please check manually\u001b[0m\n"
     ]
    },
    {
     "name": "stdout",
     "output_type": "stream",
     "text": [
      "\n",
      "\n"
     ]
    },
    {
     "data": {
      "text/plain": [
       "{'name': 'notebook-shim',\n",
       " 'version': '0.2.3',\n",
       " 'license': 'BSD 3-Clause License  Copyright (c) 2022 Project Jupyter Contributors All rights reserved.  Redistribution and use in source and binary forms, with or without modification, are permitted provided that the following conditions are met:  1. Redistributions of source code must retain the above copyright notice, this list of conditions and the following disclaimer.  2. Redistributions in binary form must reproduce the above copyright notice, this list of conditions and the following disclaimer in the documentation and/or other materials provided with the distribution.  3. Neither the name of the copyright holder nor the names of its contributors may be used to endorse or promote products derived from this software without specific prior written permission.  THIS SOFTWARE IS PROVIDED BY THE COPYRIGHT HOLDERS AND CONTRIBUTORS \"AS IS\" AND ANY EXPRESS OR IMPLIED WARRANTIES, INCLUDING, BUT NOT LIMITED TO, THE IMPLIED WARRANTIES OF MERCHANTABILITY AND FITNESS FOR A PARTICULAR PURPOSE ARE DISCLAIMED. IN NO EVENT SHALL THE COPYRIGHT HOLDER OR CONTRIBUTORS BE LIABLE FOR ANY DIRECT, INDIRECT, INCIDENTAL, SPECIAL, EXEMPLARY, OR CONSEQUENTIAL DAMAGES (INCLUDING, BUT NOT LIMITED TO, PROCUREMENT OF SUBSTITUTE GOODS OR SERVICES; LOSS OF USE, DATA, OR PROFITS; OR BUSINESS INTERRUPTION) HOWEVER CAUSED AND ON ANY THEORY OF LIABILITY, WHETHER IN CONTRACT, STRICT LIABILITY, OR TORT (INCLUDING NEGLIGENCE OR OTHERWISE) ARISING IN ANY WAY OUT OF THE USE OF THIS SOFTWARE, EVEN IF ADVISED OF THE POSSIBILITY OF SUCH DAMAGE.',\n",
       " 'homepage': '',\n",
       " 'version_url': 'No version url found, please check manually',\n",
       " 'project_url': 'No project url found, please check manually'}"
      ]
     },
     "execution_count": 15,
     "metadata": {},
     "output_type": "execute_result"
    }
   ],
   "source": [
    "filter_data(data,data[\"version\"])"
   ]
  },
  {
   "cell_type": "code",
   "execution_count": 26,
   "id": "8710c6e4-3866-4ace-8fcf-4b4663438767",
   "metadata": {},
   "outputs": [],
   "source": [
    "def find_gh_homepage(raw_data: Dict[str, str], version: str, keys:List[str])-> Dict[str, str]:\n",
    "    pattern = r\"(https:\\/\\/|http:\\/\\/)github\\.com\"\n",
    "    for key in keys:\n",
    "        project_url = raw_data.get(key)\n",
    "        logger.info(project_url)\n",
    "        is_github_url = re.search(pattern,project_url)\n",
    "        if is_github_url:\n",
    "            return project_url"
   ]
  },
  {
   "cell_type": "code",
   "execution_count": null,
   "id": "e5f0a7f6-cae8-4528-82fc-2e90c3024583",
   "metadata": {},
   "outputs": [],
   "source": [
    "'Source Code'\n",
    "'Homepage'\n",
    "'Source'"
   ]
  },
  {
   "cell_type": "code",
   "execution_count": 17,
   "id": "94fa988b-6b80-4f34-8735-72b854650685",
   "metadata": {},
   "outputs": [],
   "source": [
    "license_pattern = r\"^[lL]icense.*\""
   ]
  },
  {
   "cell_type": "code",
   "execution_count": 19,
   "id": "73235fab-5d0d-44ce-b8c3-7b8d32eb8938",
   "metadata": {},
   "outputs": [],
   "source": [
    "re.search(license_pattern,\"Locense :: OSI Approved :: MIT License\") "
   ]
  },
  {
   "cell_type": "code",
   "execution_count": null,
   "id": "f47c653c-e6bc-4bcf-ae34-201e2d1e7230",
   "metadata": {},
   "outputs": [],
   "source": []
  }
 ],
 "metadata": {
  "kernelspec": {
   "display_name": "cli-pypi-metadata-extractor-py3.8",
   "language": "python",
   "name": "cli-pypi-metadata-extractor-py3.8"
  },
  "language_info": {
   "codemirror_mode": {
    "name": "ipython",
    "version": 3
   },
   "file_extension": ".py",
   "mimetype": "text/x-python",
   "name": "python",
   "nbconvert_exporter": "python",
   "pygments_lexer": "ipython3",
   "version": "3.8.15"
  }
 },
 "nbformat": 4,
 "nbformat_minor": 5
}
