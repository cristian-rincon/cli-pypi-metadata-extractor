{
 "cells": [
  {
   "cell_type": "markdown",
   "id": "67c3b146-6b3b-4436-883a-2e858bd1da7c",
   "metadata": {},
   "source": [
    "# Sandbox\n",
    "\n",
    "This is a sandbox notebook for rapid prototyping related to the lib."
   ]
  },
  {
   "cell_type": "code",
   "execution_count": 10,
   "id": "c4fd913a-770d-4010-8307-054e460a1f3b",
   "metadata": {},
   "outputs": [],
   "source": [
    "%load_ext autoreload\n",
    "%autoreload 2"
   ]
  },
  {
   "cell_type": "markdown",
   "id": "3ecbfd4e-fdc0-49fe-bd05-d1ebf0cfad5c",
   "metadata": {},
   "source": [
    "## 0. Requirements"
   ]
  },
  {
   "cell_type": "code",
   "execution_count": 6,
   "id": "2282593d-1309-4164-a549-f61246a0b597",
   "metadata": {},
   "outputs": [],
   "source": [
    "!pip install pandas loguru -qq"
   ]
  },
  {
   "cell_type": "markdown",
   "id": "ea64492c-3227-4535-9b95-490cad40c7b6",
   "metadata": {},
   "source": [
    "## 1. Imports"
   ]
  },
  {
   "cell_type": "code",
   "execution_count": 1,
   "id": "13e99521-c110-4fe3-afb3-612f2382dc18",
   "metadata": {},
   "outputs": [],
   "source": [
    "import sys\n",
    "sys.path.append(\"../\")"
   ]
  },
  {
   "cell_type": "code",
   "execution_count": 70,
   "id": "4882e6b6-d6ec-4f03-974e-29d1f98e8967",
   "metadata": {},
   "outputs": [],
   "source": [
    "import re\n",
    "import pandas as pd\n",
    "from loguru import logger\n",
    "from typing import List\n",
    "from extractor.core import *"
   ]
  },
  {
   "cell_type": "markdown",
   "id": "f5a29e66-095b-4a4a-8074-a2281caf9258",
   "metadata": {},
   "source": [
    "## 2. Extract"
   ]
  },
  {
   "cell_type": "code",
   "execution_count": 93,
   "id": "94340c07-1598-4aa9-98fc-45ff005eaeaf",
   "metadata": {},
   "outputs": [],
   "source": [
    "data = get_raw_data(\"openpyxl\")"
   ]
  },
  {
   "cell_type": "code",
   "execution_count": 94,
   "id": "bc410ad7-5f13-4d55-9fff-45774674e436",
   "metadata": {},
   "outputs": [
    {
     "data": {
      "text/plain": [
       "{'author': 'See AUTHORS',\n",
       " 'author_email': 'charlie.clark@clark-consulting.eu',\n",
       " 'bugtrack_url': None,\n",
       " 'classifiers': ['Development Status :: 5 - Production/Stable',\n",
       "  'License :: OSI Approved :: MIT License',\n",
       "  'Operating System :: MacOS :: MacOS X',\n",
       "  'Operating System :: Microsoft :: Windows',\n",
       "  'Operating System :: POSIX',\n",
       "  'Programming Language :: Python',\n",
       "  'Programming Language :: Python :: 3.10',\n",
       "  'Programming Language :: Python :: 3.11',\n",
       "  'Programming Language :: Python :: 3.6',\n",
       "  'Programming Language :: Python :: 3.7',\n",
       "  'Programming Language :: Python :: 3.8',\n",
       "  'Programming Language :: Python :: 3.9'],\n",
       " 'description': '.. image:: https://coveralls.io/repos/bitbucket/openpyxl/openpyxl/badge.svg?branch=default\\n    :target: https://coveralls.io/bitbucket/openpyxl/openpyxl?branch=default\\n    :alt: coverage status\\n\\nIntroduction\\n------------\\n\\nopenpyxl is a Python library to read/write Excel 2010 xlsx/xlsm/xltx/xltm files.\\n\\nIt was born from lack of existing library to read/write natively from Python\\nthe Office Open XML format.\\n\\nAll kudos to the PHPExcel team as openpyxl was initially based on PHPExcel.\\n\\n\\nSecurity\\n--------\\n\\nBy default openpyxl does not guard against quadratic blowup or billion laughs\\nxml attacks. To guard against these attacks install defusedxml.\\n\\nMailing List\\n------------\\n\\nThe user list can be found on http://groups.google.com/group/openpyxl-users\\n\\n\\nSample code::\\n\\n    from openpyxl import Workbook\\n    wb = Workbook()\\n\\n    # grab the active worksheet\\n    ws = wb.active\\n\\n    # Data can be assigned directly to cells\\n    ws[\\'A1\\'] = 42\\n\\n    # Rows can also be appended\\n    ws.append([1, 2, 3])\\n\\n    # Python types will automatically be converted\\n    import datetime\\n    ws[\\'A2\\'] = datetime.datetime.now()\\n\\n    # Save the file\\n    wb.save(\"sample.xlsx\")\\n\\n\\nDocumentation\\n-------------\\n\\nThe documentation is at: https://openpyxl.readthedocs.io\\n\\n* installation methods\\n* code examples\\n* instructions for contributing\\n\\nRelease notes: https://openpyxl.readthedocs.io/en/stable/changes.html\\n',\n",
       " 'description_content_type': '',\n",
       " 'docs_url': 'https://pythonhosted.org/openpyxl/',\n",
       " 'download_url': '',\n",
       " 'downloads': {'last_day': -1, 'last_month': -1, 'last_week': -1},\n",
       " 'home_page': 'https://openpyxl.readthedocs.io',\n",
       " 'keywords': '',\n",
       " 'license': 'MIT',\n",
       " 'maintainer': '',\n",
       " 'maintainer_email': '',\n",
       " 'name': 'openpyxl',\n",
       " 'package_url': 'https://pypi.org/project/openpyxl/',\n",
       " 'platform': None,\n",
       " 'project_url': 'https://pypi.org/project/openpyxl/',\n",
       " 'project_urls': {'Documentation': 'https://openpyxl.readthedocs.io/en/stable/',\n",
       "  'Homepage': 'https://openpyxl.readthedocs.io',\n",
       "  'Source': 'https://foss.heptapod.net/openpyxl/openpyxl',\n",
       "  'Tracker': 'https://foss.heptapod.net/openpyxl/openpyxl/-/issues'},\n",
       " 'release_url': 'https://pypi.org/project/openpyxl/3.1.2/',\n",
       " 'requires_dist': ['et-xmlfile'],\n",
       " 'requires_python': '>=3.6',\n",
       " 'summary': 'A Python library to read/write Excel 2010 xlsx/xlsm files',\n",
       " 'version': '3.1.2',\n",
       " 'yanked': False,\n",
       " 'yanked_reason': None}"
      ]
     },
     "execution_count": 94,
     "metadata": {},
     "output_type": "execute_result"
    }
   ],
   "source": [
    "data"
   ]
  },
  {
   "cell_type": "code",
   "execution_count": 83,
   "id": "09a1f351-7444-46e5-bc95-4c070739fc01",
   "metadata": {},
   "outputs": [
    {
     "data": {
      "text/html": [
       "<pre style=\"white-space:pre;overflow-x:auto;line-height:normal;font-family:Menlo,'DejaVu Sans Mono',consolas,'Courier New',monospace\">Searching GitHub url for: typing-extensions\n",
       "</pre>\n"
      ],
      "text/plain": [
       "Searching GitHub url for: typing-extensions\n"
      ]
     },
     "metadata": {},
     "output_type": "display_data"
    },
    {
     "data": {
      "text/html": [
       "<pre style=\"white-space:pre;overflow-x:auto;line-height:normal;font-family:Menlo,'DejaVu Sans Mono',consolas,'Courier New',monospace\">Nested metadata found\n",
       "</pre>\n"
      ],
      "text/plain": [
       "Nested metadata found\n"
      ]
     },
     "metadata": {},
     "output_type": "display_data"
    },
    {
     "data": {
      "text/plain": [
       "{'name': 'typing-extensions',\n",
       " 'version': '4.6.3',\n",
       " 'license': '',\n",
       " 'homepage': '',\n",
       " 'project_url': None,\n",
       " 'version_url': 'None/tree/4.6.3/'}"
      ]
     },
     "execution_count": 83,
     "metadata": {},
     "output_type": "execute_result"
    }
   ],
   "source": [
    "filter_data(data,data[\"version\"])"
   ]
  },
  {
   "cell_type": "code",
   "execution_count": 26,
   "id": "8710c6e4-3866-4ace-8fcf-4b4663438767",
   "metadata": {},
   "outputs": [],
   "source": [
    "def find_gh_homepage(raw_data: Dict[str, str], version: str, keys:List[str])-> Dict[str, str]:\n",
    "    pattern = r\"(https:\\/\\/|http:\\/\\/)github\\.com\"\n",
    "    for key in keys:\n",
    "        project_url = raw_data.get(key)\n",
    "        logger.info(project_url)\n",
    "        is_github_url = re.search(pattern,project_url)\n",
    "        if is_github_url:\n",
    "            return project_url"
   ]
  },
  {
   "cell_type": "code",
   "execution_count": null,
   "id": "e5f0a7f6-cae8-4528-82fc-2e90c3024583",
   "metadata": {},
   "outputs": [],
   "source": [
    "'Source Code'\n",
    "'Homepage'\n",
    "'Source'"
   ]
  }
 ],
 "metadata": {
  "kernelspec": {
   "display_name": "cli-pypi-metadata-extractor-py3.8",
   "language": "python",
   "name": "cli-pypi-metadata-extractor-py3.8"
  },
  "language_info": {
   "codemirror_mode": {
    "name": "ipython",
    "version": 3
   },
   "file_extension": ".py",
   "mimetype": "text/x-python",
   "name": "python",
   "nbconvert_exporter": "python",
   "pygments_lexer": "ipython3",
   "version": "3.8.15"
  }
 },
 "nbformat": 4,
 "nbformat_minor": 5
}
